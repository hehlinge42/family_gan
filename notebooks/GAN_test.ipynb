{
 "cells": [
  {
   "cell_type": "code",
   "execution_count": null,
   "id": "17ba4f3a",
   "metadata": {
    "scrolled": true
   },
   "outputs": [],
   "source": [
    "import pandas as pd\n",
    "import os\n",
    "\n",
    "import tensorflow as tf\n",
    "from tensorflow import keras\n",
    "# import dnnlib"
   ]
  },
  {
   "cell_type": "code",
   "execution_count": null,
   "id": "43dfa3b9",
   "metadata": {},
   "outputs": [],
   "source": [
    "!pwd"
   ]
  },
  {
   "cell_type": "code",
   "execution_count": null,
   "id": "517c1289",
   "metadata": {},
   "outputs": [],
   "source": [
    "import os\n",
    "import pandas as pd\n",
    "import tensorflow as tf\n",
    "# import dnnlib"
   ]
  },
  {
   "cell_type": "code",
   "execution_count": null,
   "id": "3984c429",
   "metadata": {},
   "outputs": [],
   "source": [
    "pretrained_gan = \"../data/metfaces.pkl\"\n",
    "with open(pretrained_gan, \"rb\") as f:\n",
    "    model = pickle.load(f)\n",
    "\n",
    "model.summary()"
   ]
  },
  {
   "cell_type": "code",
   "execution_count": null,
   "id": "754f75b1",
   "metadata": {},
   "outputs": [],
   "source": []
  }
 ],
 "metadata": {
  "kernelspec": {
   "display_name": "Python 3 (ipykernel)",
   "language": "python",
   "name": "python3"
  },
  "language_info": {
   "codemirror_mode": {
    "name": "ipython",
    "version": 3
   },
   "file_extension": ".py",
   "mimetype": "text/x-python",
   "name": "python",
   "nbconvert_exporter": "python",
   "pygments_lexer": "ipython3",
   "version": "3.7.12"
  }
 },
 "nbformat": 4,
 "nbformat_minor": 5
}
